{
  "nbformat": 4,
  "nbformat_minor": 0,
  "metadata": {
    "colab": {
      "provenance": [],
      "authorship_tag": "ABX9TyOuprZZabnNtVK3mqJiwnG9",
      "include_colab_link": true
    },
    "kernelspec": {
      "name": "python3",
      "display_name": "Python 3"
    },
    "language_info": {
      "name": "python"
    }
  },
  "cells": [
    {
      "cell_type": "markdown",
      "metadata": {
        "id": "view-in-github",
        "colab_type": "text"
      },
      "source": [
        "<a href=\"https://colab.research.google.com/github/girishkarhana/movies.csv-analysis-with-pandas/blob/main/movies_analysis_with_pandas.ipynb\" target=\"_parent\"><img src=\"https://colab.research.google.com/assets/colab-badge.svg\" alt=\"Open In Colab\"/></a>"
      ]
    },
    {
      "cell_type": "code",
      "execution_count": 1,
      "metadata": {
        "id": "KhcvEfNl_0l_"
      },
      "outputs": [],
      "source": [
        "import pandas as pd"
      ]
    },
    {
      "cell_type": "code",
      "source": [
        "df=pd.read_csv('/content/movies.csv')\n",
        "print(df)"
      ],
      "metadata": {
        "colab": {
          "base_uri": "https://localhost:8080/"
        },
        "id": "6bgKAkwxBWLw",
        "outputId": "0c941f40-6466-4f0c-be2e-c2bc674bef36"
      },
      "execution_count": 3,
      "outputs": [
        {
          "output_type": "stream",
          "name": "stdout",
          "text": [
            "                                                name rating      genre  year  \\\n",
            "0                                        The Shining      R      Drama  1980   \n",
            "1                                    The Blue Lagoon      R  Adventure  1980   \n",
            "2     Star Wars: Episode V - The Empire Strikes Back     PG     Action  1980   \n",
            "3                                          Airplane!     PG     Comedy  1980   \n",
            "4                                         Caddyshack      R     Comedy  1980   \n",
            "...                                              ...    ...        ...   ...   \n",
            "7663                                    More to Life    NaN      Drama  2020   \n",
            "7664                                     Dream Round    NaN     Comedy  2020   \n",
            "7665                                   Saving Mbango    NaN      Drama  2020   \n",
            "7666                                    It's Just Us    NaN      Drama  2020   \n",
            "7667                                       Tee em el    NaN     Horror  2020   \n",
            "\n",
            "                              released  score      votes         director  \\\n",
            "0        June 13, 1980 (United States)    8.4   927000.0  Stanley Kubrick   \n",
            "1         July 2, 1980 (United States)    5.8    65000.0   Randal Kleiser   \n",
            "2        June 20, 1980 (United States)    8.7  1200000.0   Irvin Kershner   \n",
            "3         July 2, 1980 (United States)    7.7   221000.0     Jim Abrahams   \n",
            "4        July 25, 1980 (United States)    7.3   108000.0     Harold Ramis   \n",
            "...                                ...    ...        ...              ...   \n",
            "7663  October 23, 2020 (United States)    3.1       18.0    Joseph Ebanks   \n",
            "7664  February 7, 2020 (United States)    4.7       36.0     Dusty Dukatz   \n",
            "7665         April 27, 2020 (Cameroon)    5.7       29.0     Nkanya Nkwai   \n",
            "7666   October 1, 2020 (United States)    NaN        NaN    James Randall   \n",
            "7667   August 19, 2020 (United States)    5.7        7.0     Pereko Mosia   \n",
            "\n",
            "                       writer              star         country      budget  \\\n",
            "0                Stephen King    Jack Nicholson  United Kingdom  19000000.0   \n",
            "1     Henry De Vere Stacpoole    Brooke Shields   United States   4500000.0   \n",
            "2              Leigh Brackett       Mark Hamill   United States  18000000.0   \n",
            "3                Jim Abrahams       Robert Hays   United States   3500000.0   \n",
            "4          Brian Doyle-Murray       Chevy Chase   United States   6000000.0   \n",
            "...                       ...               ...             ...         ...   \n",
            "7663            Joseph Ebanks      Shannon Bond   United States      7000.0   \n",
            "7664              Lisa Huston  Michael Saquella   United States         NaN   \n",
            "7665             Lynno Lovert      Onyama Laura   United States     58750.0   \n",
            "7666            James Randall     Christina Roz   United States     15000.0   \n",
            "7667             Pereko Mosia  Siyabonga Mabaso    South Africa         NaN   \n",
            "\n",
            "            gross                    company  runtime  \n",
            "0      46998772.0               Warner Bros.    146.0  \n",
            "1      58853106.0          Columbia Pictures    104.0  \n",
            "2     538375067.0                  Lucasfilm    124.0  \n",
            "3      83453539.0         Paramount Pictures     88.0  \n",
            "4      39846344.0             Orion Pictures     98.0  \n",
            "...           ...                        ...      ...  \n",
            "7663          NaN                        NaN     90.0  \n",
            "7664          NaN  Cactus Blue Entertainment     90.0  \n",
            "7665          NaN           Embi Productions      NaN  \n",
            "7666          NaN                        NaN    120.0  \n",
            "7667          NaN                PK 65 Films    102.0  \n",
            "\n",
            "[7668 rows x 15 columns]\n"
          ]
        }
      ]
    },
    {
      "cell_type": "code",
      "source": [
        "df['profit']=df['gross']-df['budget']\n",
        "df['roi'] = df['profit']/df['budget']"
      ],
      "metadata": {
        "id": "0_3fGQQUBcA9"
      },
      "execution_count": 4,
      "outputs": []
    },
    {
      "cell_type": "code",
      "source": [
        "profitable_movie = df.loc[df['profit'].idxmax(), ['name','director','company','star','budget','profit']]\n",
        "print(profitable_movie)"
      ],
      "metadata": {
        "colab": {
          "base_uri": "https://localhost:8080/"
        },
        "id": "dCu8gIRTCAgD",
        "outputId": "f4cc823b-e00c-4900-9dc3-f713aaad5943"
      },
      "execution_count": 7,
      "outputs": [
        {
          "output_type": "stream",
          "name": "stdout",
          "text": [
            "name                       Avatar\n",
            "director            James Cameron\n",
            "company     Twentieth Century Fox\n",
            "star              Sam Worthington\n",
            "budget                237000000.0\n",
            "profit               2610246203.0\n",
            "Name: 5445, dtype: object\n"
          ]
        }
      ]
    },
    {
      "cell_type": "code",
      "source": [
        "roi_movie = df.loc[df['roi'].idxmax(), ['name','director','company','star','budget','roi']]\n",
        "print(roi_movie)"
      ],
      "metadata": {
        "colab": {
          "base_uri": "https://localhost:8080/"
        },
        "id": "UdbD1e-WCifN",
        "outputId": "63a51981-517a-4df4-d4a4-db04e171865b"
      },
      "execution_count": 10,
      "outputs": [
        {
          "output_type": "stream",
          "name": "stdout",
          "text": [
            "name        Paranormal Activity\n",
            "director              Oren Peli\n",
            "company            Solana Films\n",
            "star          Katie Featherston\n",
            "budget                  15000.0\n",
            "roi                12889.386667\n",
            "Name: 5114, dtype: object\n"
          ]
        }
      ]
    },
    {
      "cell_type": "code",
      "source": [
        "unique_genres = df['genre'].unique()\n",
        "print(unique_genres)\n"
      ],
      "metadata": {
        "colab": {
          "base_uri": "https://localhost:8080/"
        },
        "id": "YLq2vVpICxGw",
        "outputId": "efdb6e54-5414-47af-9313-ea8136c7cfd4"
      },
      "execution_count": 12,
      "outputs": [
        {
          "output_type": "stream",
          "name": "stdout",
          "text": [
            "['Drama' 'Adventure' 'Action' 'Comedy' 'Horror' 'Biography' 'Crime'\n",
            " 'Fantasy' 'Family' 'Sci-Fi' 'Animation' 'Romance' 'Music' 'Western'\n",
            " 'Thriller' 'History' 'Mystery' 'Sport' 'Musical']\n"
          ]
        }
      ]
    },
    {
      "cell_type": "code",
      "source": [
        "hghtly_watched_genre = df['genre'].value_counts().idxmax()\n",
        "print(hghtly_watched_genre)"
      ],
      "metadata": {
        "colab": {
          "base_uri": "https://localhost:8080/"
        },
        "id": "kvfvJ0cQC-p7",
        "outputId": "9a3f498f-7b00-458e-ba39-2eb7ffed0e1d"
      },
      "execution_count": 13,
      "outputs": [
        {
          "output_type": "stream",
          "name": "stdout",
          "text": [
            "Comedy\n"
          ]
        }
      ]
    },
    {
      "cell_type": "code",
      "source": [
        "table=df[['director','company']]\n",
        "print(table)\n",
        "p_roi=df.loc[df['roi'].idxmax(),['director','company']]\n",
        "top_3_producers= df.nlargest(3, 'roi')[['director','company', 'roi']]\n",
        "\n",
        "print(top_3_producers)"
      ],
      "metadata": {
        "colab": {
          "base_uri": "https://localhost:8080/"
        },
        "id": "T4ReT1kSDX0I",
        "outputId": "2a984810-cec0-4abd-d8a6-ecdadce11657"
      },
      "execution_count": 23,
      "outputs": [
        {
          "output_type": "stream",
          "name": "stdout",
          "text": [
            "             director                    company\n",
            "0     Stanley Kubrick               Warner Bros.\n",
            "1      Randal Kleiser          Columbia Pictures\n",
            "2      Irvin Kershner                  Lucasfilm\n",
            "3        Jim Abrahams         Paramount Pictures\n",
            "4        Harold Ramis             Orion Pictures\n",
            "...               ...                        ...\n",
            "7663    Joseph Ebanks                        NaN\n",
            "7664     Dusty Dukatz  Cactus Blue Entertainment\n",
            "7665     Nkanya Nkwai           Embi Productions\n",
            "7666    James Randall                        NaN\n",
            "7667     Pereko Mosia                PK 65 Films\n",
            "\n",
            "[7668 rows x 2 columns]\n",
            "           director          company           roi\n",
            "5114      Oren Peli     Solana Films  12889.386667\n",
            "3459  Daniel Myrick      Haxan Films   4142.984983\n",
            "6815   Travis Cluff  New Line Cinema    428.644100\n"
          ]
        }
      ]
    },
    {
      "cell_type": "code",
      "source": [
        "actorcounts = pd.DataFrame(df['star'].value_counts())\n",
        "most_movies_actor = actorcounts['count'].idxmax(), actorcounts['count'].max()\n",
        "print(most_movies_actor)"
      ],
      "metadata": {
        "colab": {
          "base_uri": "https://localhost:8080/"
        },
        "id": "GZHevOdkE7kq",
        "outputId": "136b3fd5-0304-467f-af35-def333b38e7e"
      },
      "execution_count": 28,
      "outputs": [
        {
          "output_type": "stream",
          "name": "stdout",
          "text": [
            "('Nicolas Cage', 43)\n"
          ]
        }
      ]
    },
    {
      "cell_type": "code",
      "source": [
        "actorcounts = pd.DataFrame(df['star'].value_counts())\n",
        "most_movies_actor = actorcounts['count'].idxmax(), actorcounts['count'].max()\n",
        "print(most_movies_actor)\n",
        "movies_by_actor = df[df['star'] == max_movies_actor['star']]['name'].tolist()\n",
        "print(movies_by_actor)"
      ],
      "metadata": {
        "colab": {
          "base_uri": "https://localhost:8080/"
        },
        "id": "YjJy6fncHg-Q",
        "outputId": "2e61a913-764d-401f-b7d2-777055e6a777"
      },
      "execution_count": 48,
      "outputs": [
        {
          "output_type": "stream",
          "name": "stdout",
          "text": [
            "('Nicolas Cage', 43)\n",
            "['Valley Girl', 'The Boy in Blue', 'Raising Arizona', \"Vampire's Kiss\", 'Wild at Heart', 'Fire Birds', 'Red Rock West', 'Amos & Andrew', 'It Could Happen to You', 'Trapped in Paradise', 'Leaving Las Vegas', 'Con Air', 'Snake Eyes', 'City of Angels', '8MM', 'Bringing Out the Dead', 'Gone in 60 Seconds', 'The Family Man', \"Captain Corelli's Mandolin\", 'Adaptation.', 'Windtalkers', 'Matchstick Men', 'National Treasure', 'Lord of War', 'The Weather Man', 'World Trade Center', 'The Wicker Man', 'Ghost Rider', 'Next', 'National Treasure: Book of Secrets', 'Bangkok Dangerous', 'Knowing', 'Bad Lieutenant: Port of Call New Orleans', \"The Sorcerer's Apprentice\", 'Drive Angry', 'Ghost Rider: Spirit of Vengeance', 'Season of the Witch', 'Trespass', 'Stolen', 'The Croods', 'Joe', 'Left Behind', 'Mandy']\n"
          ]
        }
      ]
    },
    {
      "cell_type": "code",
      "source": [],
      "metadata": {
        "id": "ypXbCQcvHtac"
      },
      "execution_count": null,
      "outputs": []
    }
  ]
}